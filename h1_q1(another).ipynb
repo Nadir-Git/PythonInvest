{
  "metadata": {
    "kernelspec": {
      "name": "python",
      "display_name": "Python (Pyodide)",
      "language": "python"
    },
    "language_info": {
      "codemirror_mode": {
        "name": "python",
        "version": 3
      },
      "file_extension": ".py",
      "mimetype": "text/x-python",
      "name": "python",
      "nbconvert_exporter": "python",
      "pygments_lexer": "ipython3",
      "version": "3.8"
    }
  },
  "nbformat_minor": 4,
  "nbformat": 4,
  "cells": [
    {
      "cell_type": "code",
      "source": "import pandas as pd",
      "metadata": {
        "trusted": true
      },
      "outputs": [],
      "execution_count": 1
    },
    {
      "cell_type": "code",
      "source": "data = pd.read_csv('GDPC1.csv')",
      "metadata": {
        "trusted": true
      },
      "outputs": [],
      "execution_count": 2
    },
    {
      "cell_type": "code",
      "source": "data.head()",
      "metadata": {
        "trusted": true
      },
      "outputs": [
        {
          "execution_count": 3,
          "output_type": "execute_result",
          "data": {
            "text/plain": "         DATE     GDPC1\n0  1947-01-01  2182.681\n1  1947-04-01  2176.892\n2  1947-07-01  2172.432\n3  1947-10-01  2206.452\n4  1948-01-01  2239.682",
            "text/html": "<div>\n<style scoped>\n    .dataframe tbody tr th:only-of-type {\n        vertical-align: middle;\n    }\n\n    .dataframe tbody tr th {\n        vertical-align: top;\n    }\n\n    .dataframe thead th {\n        text-align: right;\n    }\n</style>\n<table border=\"1\" class=\"dataframe\">\n  <thead>\n    <tr style=\"text-align: right;\">\n      <th></th>\n      <th>DATE</th>\n      <th>GDPC1</th>\n    </tr>\n  </thead>\n  <tbody>\n    <tr>\n      <th>0</th>\n      <td>1947-01-01</td>\n      <td>2182.681</td>\n    </tr>\n    <tr>\n      <th>1</th>\n      <td>1947-04-01</td>\n      <td>2176.892</td>\n    </tr>\n    <tr>\n      <th>2</th>\n      <td>1947-07-01</td>\n      <td>2172.432</td>\n    </tr>\n    <tr>\n      <th>3</th>\n      <td>1947-10-01</td>\n      <td>2206.452</td>\n    </tr>\n    <tr>\n      <th>4</th>\n      <td>1948-01-01</td>\n      <td>2239.682</td>\n    </tr>\n  </tbody>\n</table>\n</div>"
          },
          "metadata": {}
        }
      ],
      "execution_count": 3
    },
    {
      "cell_type": "code",
      "source": "data.info()",
      "metadata": {
        "trusted": true
      },
      "outputs": [
        {
          "name": "stdout",
          "text": "<class 'pandas.core.frame.DataFrame'>\nRangeIndex: 308 entries, 0 to 307\nData columns (total 2 columns):\n #   Column  Non-Null Count  Dtype  \n---  ------  --------------  -----  \n 0   DATE    308 non-null    object \n 1   GDPC1   308 non-null    float64\ndtypes: float64(1), object(1)\nmemory usage: 3.7+ KB\n",
          "output_type": "stream"
        }
      ],
      "execution_count": 4
    },
    {
      "cell_type": "code",
      "source": "data['correct_DATE'] = pd.to_datetime(data['DATE'])",
      "metadata": {
        "trusted": true
      },
      "outputs": [],
      "execution_count": 8
    },
    {
      "cell_type": "code",
      "source": "data.head()",
      "metadata": {
        "trusted": true
      },
      "outputs": [
        {
          "execution_count": 9,
          "output_type": "execute_result",
          "data": {
            "text/plain": "         DATE     GDPC1 correct_DATE\n0  1947-01-01  2182.681   1947-01-01\n1  1947-04-01  2176.892   1947-04-01\n2  1947-07-01  2172.432   1947-07-01\n3  1947-10-01  2206.452   1947-10-01\n4  1948-01-01  2239.682   1948-01-01",
            "text/html": "<div>\n<style scoped>\n    .dataframe tbody tr th:only-of-type {\n        vertical-align: middle;\n    }\n\n    .dataframe tbody tr th {\n        vertical-align: top;\n    }\n\n    .dataframe thead th {\n        text-align: right;\n    }\n</style>\n<table border=\"1\" class=\"dataframe\">\n  <thead>\n    <tr style=\"text-align: right;\">\n      <th></th>\n      <th>DATE</th>\n      <th>GDPC1</th>\n      <th>correct_DATE</th>\n    </tr>\n  </thead>\n  <tbody>\n    <tr>\n      <th>0</th>\n      <td>1947-01-01</td>\n      <td>2182.681</td>\n      <td>1947-01-01</td>\n    </tr>\n    <tr>\n      <th>1</th>\n      <td>1947-04-01</td>\n      <td>2176.892</td>\n      <td>1947-04-01</td>\n    </tr>\n    <tr>\n      <th>2</th>\n      <td>1947-07-01</td>\n      <td>2172.432</td>\n      <td>1947-07-01</td>\n    </tr>\n    <tr>\n      <th>3</th>\n      <td>1947-10-01</td>\n      <td>2206.452</td>\n      <td>1947-10-01</td>\n    </tr>\n    <tr>\n      <th>4</th>\n      <td>1948-01-01</td>\n      <td>2239.682</td>\n      <td>1948-01-01</td>\n    </tr>\n  </tbody>\n</table>\n</div>"
          },
          "metadata": {}
        }
      ],
      "execution_count": 9
    },
    {
      "cell_type": "code",
      "source": "data.info()",
      "metadata": {
        "trusted": true
      },
      "outputs": [
        {
          "name": "stdout",
          "text": "<class 'pandas.core.frame.DataFrame'>\nRangeIndex: 308 entries, 0 to 307\nData columns (total 3 columns):\n #   Column        Non-Null Count  Dtype         \n---  ------        --------------  -----         \n 0   DATE          308 non-null    object        \n 1   GDPC1         308 non-null    float64       \n 2   correct_DATE  308 non-null    datetime64[ns]\ndtypes: datetime64[ns](1), float64(1), object(1)\nmemory usage: 6.1+ KB\n",
          "output_type": "stream"
        }
      ],
      "execution_count": 10
    },
    {
      "cell_type": "code",
      "source": "data['2023'] = data['correct_DATE'].dt.strftime('%Y') == '2023'",
      "metadata": {
        "trusted": true
      },
      "outputs": [],
      "execution_count": 12
    },
    {
      "cell_type": "code",
      "source": "data.head()",
      "metadata": {
        "trusted": true
      },
      "outputs": [
        {
          "execution_count": 13,
          "output_type": "execute_result",
          "data": {
            "text/plain": "         DATE     GDPC1 correct_DATE   2023\n0  1947-01-01  2182.681   1947-01-01  False\n1  1947-04-01  2176.892   1947-04-01  False\n2  1947-07-01  2172.432   1947-07-01  False\n3  1947-10-01  2206.452   1947-10-01  False\n4  1948-01-01  2239.682   1948-01-01  False",
            "text/html": "<div>\n<style scoped>\n    .dataframe tbody tr th:only-of-type {\n        vertical-align: middle;\n    }\n\n    .dataframe tbody tr th {\n        vertical-align: top;\n    }\n\n    .dataframe thead th {\n        text-align: right;\n    }\n</style>\n<table border=\"1\" class=\"dataframe\">\n  <thead>\n    <tr style=\"text-align: right;\">\n      <th></th>\n      <th>DATE</th>\n      <th>GDPC1</th>\n      <th>correct_DATE</th>\n      <th>2023</th>\n    </tr>\n  </thead>\n  <tbody>\n    <tr>\n      <th>0</th>\n      <td>1947-01-01</td>\n      <td>2182.681</td>\n      <td>1947-01-01</td>\n      <td>False</td>\n    </tr>\n    <tr>\n      <th>1</th>\n      <td>1947-04-01</td>\n      <td>2176.892</td>\n      <td>1947-04-01</td>\n      <td>False</td>\n    </tr>\n    <tr>\n      <th>2</th>\n      <td>1947-07-01</td>\n      <td>2172.432</td>\n      <td>1947-07-01</td>\n      <td>False</td>\n    </tr>\n    <tr>\n      <th>3</th>\n      <td>1947-10-01</td>\n      <td>2206.452</td>\n      <td>1947-10-01</td>\n      <td>False</td>\n    </tr>\n    <tr>\n      <th>4</th>\n      <td>1948-01-01</td>\n      <td>2239.682</td>\n      <td>1948-01-01</td>\n      <td>False</td>\n    </tr>\n  </tbody>\n</table>\n</div>"
          },
          "metadata": {}
        }
      ],
      "execution_count": 13
    },
    {
      "cell_type": "code",
      "source": "data",
      "metadata": {
        "trusted": true
      },
      "outputs": [
        {
          "execution_count": 14,
          "output_type": "execute_result",
          "data": {
            "text/plain": "           DATE      GDPC1 correct_DATE   2023\n0    1947-01-01   2182.681   1947-01-01  False\n1    1947-04-01   2176.892   1947-04-01  False\n2    1947-07-01   2172.432   1947-07-01  False\n3    1947-10-01   2206.452   1947-10-01  False\n4    1948-01-01   2239.682   1948-01-01  False\n..          ...        ...          ...    ...\n303  2022-10-01  21989.981   2022-10-01  False\n304  2023-01-01  22112.329   2023-01-01   True\n305  2023-04-01  22225.350   2023-04-01   True\n306  2023-07-01  22490.692   2023-07-01   True\n307  2023-10-01  22679.255   2023-10-01   True\n\n[308 rows x 4 columns]",
            "text/html": "<div>\n<style scoped>\n    .dataframe tbody tr th:only-of-type {\n        vertical-align: middle;\n    }\n\n    .dataframe tbody tr th {\n        vertical-align: top;\n    }\n\n    .dataframe thead th {\n        text-align: right;\n    }\n</style>\n<table border=\"1\" class=\"dataframe\">\n  <thead>\n    <tr style=\"text-align: right;\">\n      <th></th>\n      <th>DATE</th>\n      <th>GDPC1</th>\n      <th>correct_DATE</th>\n      <th>2023</th>\n    </tr>\n  </thead>\n  <tbody>\n    <tr>\n      <th>0</th>\n      <td>1947-01-01</td>\n      <td>2182.681</td>\n      <td>1947-01-01</td>\n      <td>False</td>\n    </tr>\n    <tr>\n      <th>1</th>\n      <td>1947-04-01</td>\n      <td>2176.892</td>\n      <td>1947-04-01</td>\n      <td>False</td>\n    </tr>\n    <tr>\n      <th>2</th>\n      <td>1947-07-01</td>\n      <td>2172.432</td>\n      <td>1947-07-01</td>\n      <td>False</td>\n    </tr>\n    <tr>\n      <th>3</th>\n      <td>1947-10-01</td>\n      <td>2206.452</td>\n      <td>1947-10-01</td>\n      <td>False</td>\n    </tr>\n    <tr>\n      <th>4</th>\n      <td>1948-01-01</td>\n      <td>2239.682</td>\n      <td>1948-01-01</td>\n      <td>False</td>\n    </tr>\n    <tr>\n      <th>...</th>\n      <td>...</td>\n      <td>...</td>\n      <td>...</td>\n      <td>...</td>\n    </tr>\n    <tr>\n      <th>303</th>\n      <td>2022-10-01</td>\n      <td>21989.981</td>\n      <td>2022-10-01</td>\n      <td>False</td>\n    </tr>\n    <tr>\n      <th>304</th>\n      <td>2023-01-01</td>\n      <td>22112.329</td>\n      <td>2023-01-01</td>\n      <td>True</td>\n    </tr>\n    <tr>\n      <th>305</th>\n      <td>2023-04-01</td>\n      <td>22225.350</td>\n      <td>2023-04-01</td>\n      <td>True</td>\n    </tr>\n    <tr>\n      <th>306</th>\n      <td>2023-07-01</td>\n      <td>22490.692</td>\n      <td>2023-07-01</td>\n      <td>True</td>\n    </tr>\n    <tr>\n      <th>307</th>\n      <td>2023-10-01</td>\n      <td>22679.255</td>\n      <td>2023-10-01</td>\n      <td>True</td>\n    </tr>\n  </tbody>\n</table>\n<p>308 rows × 4 columns</p>\n</div>"
          },
          "metadata": {}
        }
      ],
      "execution_count": 14
    },
    {
      "cell_type": "code",
      "source": "data.info()",
      "metadata": {
        "trusted": true
      },
      "outputs": [
        {
          "name": "stdout",
          "text": "<class 'pandas.core.frame.DataFrame'>\nRangeIndex: 308 entries, 0 to 307\nData columns (total 4 columns):\n #   Column        Non-Null Count  Dtype         \n---  ------        --------------  -----         \n 0   DATE          308 non-null    object        \n 1   GDPC1         308 non-null    float64       \n 2   correct_DATE  308 non-null    datetime64[ns]\n 3   2023          308 non-null    bool          \ndtypes: bool(1), datetime64[ns](1), float64(1), object(1)\nmemory usage: 6.4+ KB\n",
          "output_type": "stream"
        }
      ],
      "execution_count": 15
    },
    {
      "cell_type": "code",
      "source": "data.describe()",
      "metadata": {
        "trusted": true
      },
      "outputs": [
        {
          "execution_count": 16,
          "output_type": "execute_result",
          "data": {
            "text/plain": "              GDPC1\ncount    308.000000\nmean    9968.226760\nstd     6050.960064\nmin     2172.432000\n25%     4744.006500\n50%     8539.503500\n75%    15552.184250\nmax    22679.255000",
            "text/html": "<div>\n<style scoped>\n    .dataframe tbody tr th:only-of-type {\n        vertical-align: middle;\n    }\n\n    .dataframe tbody tr th {\n        vertical-align: top;\n    }\n\n    .dataframe thead th {\n        text-align: right;\n    }\n</style>\n<table border=\"1\" class=\"dataframe\">\n  <thead>\n    <tr style=\"text-align: right;\">\n      <th></th>\n      <th>GDPC1</th>\n    </tr>\n  </thead>\n  <tbody>\n    <tr>\n      <th>count</th>\n      <td>308.000000</td>\n    </tr>\n    <tr>\n      <th>mean</th>\n      <td>9968.226760</td>\n    </tr>\n    <tr>\n      <th>std</th>\n      <td>6050.960064</td>\n    </tr>\n    <tr>\n      <th>min</th>\n      <td>2172.432000</td>\n    </tr>\n    <tr>\n      <th>25%</th>\n      <td>4744.006500</td>\n    </tr>\n    <tr>\n      <th>50%</th>\n      <td>8539.503500</td>\n    </tr>\n    <tr>\n      <th>75%</th>\n      <td>15552.184250</td>\n    </tr>\n    <tr>\n      <th>max</th>\n      <td>22679.255000</td>\n    </tr>\n  </tbody>\n</table>\n</div>"
          },
          "metadata": {}
        }
      ],
      "execution_count": 16
    },
    {
      "cell_type": "code",
      "source": "sr = pd.read_csv('2222.SR.csv')",
      "metadata": {
        "trusted": true
      },
      "outputs": [],
      "execution_count": 17
    },
    {
      "cell_type": "code",
      "source": "sr_max = max(sr['Adj Close'])",
      "metadata": {
        "trusted": true
      },
      "outputs": [],
      "execution_count": 20
    },
    {
      "cell_type": "code",
      "source": "sr_min = min(sr['Adj Close'])",
      "metadata": {
        "trusted": true
      },
      "outputs": [],
      "execution_count": 21
    },
    {
      "cell_type": "code",
      "source": "(sr_max - sr_min) / sr_max",
      "metadata": {
        "trusted": true
      },
      "outputs": [
        {
          "execution_count": 24,
          "output_type": "execute_result",
          "data": {
            "text/plain": "0.21393072964385831"
          },
          "metadata": {}
        }
      ],
      "execution_count": 24
    },
    {
      "cell_type": "code",
      "source": "sr",
      "metadata": {
        "trusted": true
      },
      "outputs": [
        {
          "execution_count": 25,
          "output_type": "execute_result",
          "data": {
            "text/plain": "           Date       Open       High        Low      Close  Adj Close  \\\n0    2023-01-01  29.227272  29.454544  29.181818  29.454544  28.475794   \n1    2023-01-02  29.545454  29.545454  29.227272  29.227272  28.256073   \n2    2023-01-03  29.227272  29.227272  29.227272  29.227272  28.256073   \n3    2023-01-04  29.181818  29.227272  28.681818  28.818180  27.860575   \n4    2023-01-05  28.818180  28.818180  28.363636  28.681818  27.728743   \n..          ...        ...        ...        ...        ...        ...   \n243  2023-12-24  32.950001  33.099998  32.849998  33.000000  32.828049   \n244  2023-12-25  33.000000  33.099998  32.849998  33.099998  32.927525   \n245  2023-12-26  33.049999  33.099998  32.900002  33.049999  32.877789   \n246  2023-12-27  33.099998  33.250000  33.000000  33.150002  32.977268   \n247  2023-12-28  33.150002  33.250000  32.950001  33.049999  32.877789   \n\n       Volume  \n0     1569087  \n1     4693364  \n2           0  \n3     4618455  \n4     4797670  \n..        ...  \n243  12165552  \n244  15869070  \n245  14598967  \n246  14815683  \n247  12720450  \n\n[248 rows x 7 columns]",
            "text/html": "<div>\n<style scoped>\n    .dataframe tbody tr th:only-of-type {\n        vertical-align: middle;\n    }\n\n    .dataframe tbody tr th {\n        vertical-align: top;\n    }\n\n    .dataframe thead th {\n        text-align: right;\n    }\n</style>\n<table border=\"1\" class=\"dataframe\">\n  <thead>\n    <tr style=\"text-align: right;\">\n      <th></th>\n      <th>Date</th>\n      <th>Open</th>\n      <th>High</th>\n      <th>Low</th>\n      <th>Close</th>\n      <th>Adj Close</th>\n      <th>Volume</th>\n    </tr>\n  </thead>\n  <tbody>\n    <tr>\n      <th>0</th>\n      <td>2023-01-01</td>\n      <td>29.227272</td>\n      <td>29.454544</td>\n      <td>29.181818</td>\n      <td>29.454544</td>\n      <td>28.475794</td>\n      <td>1569087</td>\n    </tr>\n    <tr>\n      <th>1</th>\n      <td>2023-01-02</td>\n      <td>29.545454</td>\n      <td>29.545454</td>\n      <td>29.227272</td>\n      <td>29.227272</td>\n      <td>28.256073</td>\n      <td>4693364</td>\n    </tr>\n    <tr>\n      <th>2</th>\n      <td>2023-01-03</td>\n      <td>29.227272</td>\n      <td>29.227272</td>\n      <td>29.227272</td>\n      <td>29.227272</td>\n      <td>28.256073</td>\n      <td>0</td>\n    </tr>\n    <tr>\n      <th>3</th>\n      <td>2023-01-04</td>\n      <td>29.181818</td>\n      <td>29.227272</td>\n      <td>28.681818</td>\n      <td>28.818180</td>\n      <td>27.860575</td>\n      <td>4618455</td>\n    </tr>\n    <tr>\n      <th>4</th>\n      <td>2023-01-05</td>\n      <td>28.818180</td>\n      <td>28.818180</td>\n      <td>28.363636</td>\n      <td>28.681818</td>\n      <td>27.728743</td>\n      <td>4797670</td>\n    </tr>\n    <tr>\n      <th>...</th>\n      <td>...</td>\n      <td>...</td>\n      <td>...</td>\n      <td>...</td>\n      <td>...</td>\n      <td>...</td>\n      <td>...</td>\n    </tr>\n    <tr>\n      <th>243</th>\n      <td>2023-12-24</td>\n      <td>32.950001</td>\n      <td>33.099998</td>\n      <td>32.849998</td>\n      <td>33.000000</td>\n      <td>32.828049</td>\n      <td>12165552</td>\n    </tr>\n    <tr>\n      <th>244</th>\n      <td>2023-12-25</td>\n      <td>33.000000</td>\n      <td>33.099998</td>\n      <td>32.849998</td>\n      <td>33.099998</td>\n      <td>32.927525</td>\n      <td>15869070</td>\n    </tr>\n    <tr>\n      <th>245</th>\n      <td>2023-12-26</td>\n      <td>33.049999</td>\n      <td>33.099998</td>\n      <td>32.900002</td>\n      <td>33.049999</td>\n      <td>32.877789</td>\n      <td>14598967</td>\n    </tr>\n    <tr>\n      <th>246</th>\n      <td>2023-12-27</td>\n      <td>33.099998</td>\n      <td>33.250000</td>\n      <td>33.000000</td>\n      <td>33.150002</td>\n      <td>32.977268</td>\n      <td>14815683</td>\n    </tr>\n    <tr>\n      <th>247</th>\n      <td>2023-12-28</td>\n      <td>33.150002</td>\n      <td>33.250000</td>\n      <td>32.950001</td>\n      <td>33.049999</td>\n      <td>32.877789</td>\n      <td>12720450</td>\n    </tr>\n  </tbody>\n</table>\n<p>248 rows × 7 columns</p>\n</div>"
          },
          "metadata": {}
        }
      ],
      "execution_count": 25
    },
    {
      "cell_type": "code",
      "source": "brk = pd.read_csv('BRK-B.csv')",
      "metadata": {
        "trusted": true
      },
      "outputs": [],
      "execution_count": 26
    },
    {
      "cell_type": "code",
      "source": "brk.info()",
      "metadata": {
        "trusted": true
      },
      "outputs": [
        {
          "name": "stdout",
          "text": "<class 'pandas.core.frame.DataFrame'>\nRangeIndex: 250 entries, 0 to 249\nData columns (total 7 columns):\n #   Column     Non-Null Count  Dtype  \n---  ------     --------------  -----  \n 0   Date       250 non-null    object \n 1   Open       250 non-null    float64\n 2   High       250 non-null    float64\n 3   Low        250 non-null    float64\n 4   Close      250 non-null    float64\n 5   Adj Close  250 non-null    float64\n 6   Volume     250 non-null    int64  \ndtypes: float64(5), int64(1), object(1)\nmemory usage: 12.8+ KB\n",
          "output_type": "stream"
        }
      ],
      "execution_count": 27
    },
    {
      "cell_type": "code",
      "source": "max_brk = max(brk['Adj Close'])",
      "metadata": {
        "trusted": true
      },
      "outputs": [],
      "execution_count": 28
    },
    {
      "cell_type": "code",
      "source": "max_brk",
      "metadata": {
        "trusted": true
      },
      "outputs": [
        {
          "execution_count": 29,
          "output_type": "execute_result",
          "data": {
            "text/plain": "370.480011"
          },
          "metadata": {}
        }
      ],
      "execution_count": 29
    },
    {
      "cell_type": "code",
      "source": "min_brk = min(brk['Adj Close'])",
      "metadata": {
        "trusted": true
      },
      "outputs": [],
      "execution_count": 32
    },
    {
      "cell_type": "code",
      "source": "min_brk",
      "metadata": {
        "trusted": true
      },
      "outputs": [
        {
          "execution_count": 33,
          "output_type": "execute_result",
          "data": {
            "text/plain": "293.51001"
          },
          "metadata": {}
        }
      ],
      "execution_count": 33
    },
    {
      "cell_type": "code",
      "source": "(max_brk - min_brk) / max_brk",
      "metadata": {
        "trusted": true
      },
      "outputs": [
        {
          "execution_count": 34,
          "output_type": "execute_result",
          "data": {
            "text/plain": "0.20775750030951054"
          },
          "metadata": {}
        }
      ],
      "execution_count": 34
    },
    {
      "cell_type": "code",
      "source": "aapl = pd.read_csv('AAPL.csv')",
      "metadata": {
        "trusted": true
      },
      "outputs": [],
      "execution_count": 35
    },
    {
      "cell_type": "code",
      "source": "aapl",
      "metadata": {
        "trusted": true
      },
      "outputs": [
        {
          "execution_count": 36,
          "output_type": "execute_result",
          "data": {
            "text/plain": "           Date        Open        High         Low       Close   Adj Close  \\\n0    2023-01-03  130.279999  130.899994  124.169998  125.070000  124.216301   \n1    2023-01-04  126.889999  128.660004  125.080002  126.360001  125.497498   \n2    2023-01-05  127.129997  127.769997  124.760002  125.019997  124.166641   \n3    2023-01-06  126.010002  130.289993  124.889999  129.619995  128.735245   \n4    2023-01-09  130.470001  133.410004  129.889999  130.149994  129.261627   \n..          ...         ...         ...         ...         ...         ...   \n245  2023-12-22  195.179993  195.410004  192.970001  193.600006  193.353287   \n246  2023-12-26  193.610001  193.889999  192.830002  193.050003  192.803986   \n247  2023-12-27  192.490005  193.500000  191.089996  193.149994  192.903839   \n248  2023-12-28  194.139999  194.660004  193.169998  193.580002  193.333298   \n249  2023-12-29  193.899994  194.399994  191.729996  192.529999  192.284637   \n\n        Volume  \n0    112117500  \n1     89113600  \n2     80962700  \n3     87754700  \n4     70790800  \n..         ...  \n245   37122800  \n246   28919300  \n247   48087700  \n248   34049900  \n249   42628800  \n\n[250 rows x 7 columns]",
            "text/html": "<div>\n<style scoped>\n    .dataframe tbody tr th:only-of-type {\n        vertical-align: middle;\n    }\n\n    .dataframe tbody tr th {\n        vertical-align: top;\n    }\n\n    .dataframe thead th {\n        text-align: right;\n    }\n</style>\n<table border=\"1\" class=\"dataframe\">\n  <thead>\n    <tr style=\"text-align: right;\">\n      <th></th>\n      <th>Date</th>\n      <th>Open</th>\n      <th>High</th>\n      <th>Low</th>\n      <th>Close</th>\n      <th>Adj Close</th>\n      <th>Volume</th>\n    </tr>\n  </thead>\n  <tbody>\n    <tr>\n      <th>0</th>\n      <td>2023-01-03</td>\n      <td>130.279999</td>\n      <td>130.899994</td>\n      <td>124.169998</td>\n      <td>125.070000</td>\n      <td>124.216301</td>\n      <td>112117500</td>\n    </tr>\n    <tr>\n      <th>1</th>\n      <td>2023-01-04</td>\n      <td>126.889999</td>\n      <td>128.660004</td>\n      <td>125.080002</td>\n      <td>126.360001</td>\n      <td>125.497498</td>\n      <td>89113600</td>\n    </tr>\n    <tr>\n      <th>2</th>\n      <td>2023-01-05</td>\n      <td>127.129997</td>\n      <td>127.769997</td>\n      <td>124.760002</td>\n      <td>125.019997</td>\n      <td>124.166641</td>\n      <td>80962700</td>\n    </tr>\n    <tr>\n      <th>3</th>\n      <td>2023-01-06</td>\n      <td>126.010002</td>\n      <td>130.289993</td>\n      <td>124.889999</td>\n      <td>129.619995</td>\n      <td>128.735245</td>\n      <td>87754700</td>\n    </tr>\n    <tr>\n      <th>4</th>\n      <td>2023-01-09</td>\n      <td>130.470001</td>\n      <td>133.410004</td>\n      <td>129.889999</td>\n      <td>130.149994</td>\n      <td>129.261627</td>\n      <td>70790800</td>\n    </tr>\n    <tr>\n      <th>...</th>\n      <td>...</td>\n      <td>...</td>\n      <td>...</td>\n      <td>...</td>\n      <td>...</td>\n      <td>...</td>\n      <td>...</td>\n    </tr>\n    <tr>\n      <th>245</th>\n      <td>2023-12-22</td>\n      <td>195.179993</td>\n      <td>195.410004</td>\n      <td>192.970001</td>\n      <td>193.600006</td>\n      <td>193.353287</td>\n      <td>37122800</td>\n    </tr>\n    <tr>\n      <th>246</th>\n      <td>2023-12-26</td>\n      <td>193.610001</td>\n      <td>193.889999</td>\n      <td>192.830002</td>\n      <td>193.050003</td>\n      <td>192.803986</td>\n      <td>28919300</td>\n    </tr>\n    <tr>\n      <th>247</th>\n      <td>2023-12-27</td>\n      <td>192.490005</td>\n      <td>193.500000</td>\n      <td>191.089996</td>\n      <td>193.149994</td>\n      <td>192.903839</td>\n      <td>48087700</td>\n    </tr>\n    <tr>\n      <th>248</th>\n      <td>2023-12-28</td>\n      <td>194.139999</td>\n      <td>194.660004</td>\n      <td>193.169998</td>\n      <td>193.580002</td>\n      <td>193.333298</td>\n      <td>34049900</td>\n    </tr>\n    <tr>\n      <th>249</th>\n      <td>2023-12-29</td>\n      <td>193.899994</td>\n      <td>194.399994</td>\n      <td>191.729996</td>\n      <td>192.529999</td>\n      <td>192.284637</td>\n      <td>42628800</td>\n    </tr>\n  </tbody>\n</table>\n<p>250 rows × 7 columns</p>\n</div>"
          },
          "metadata": {}
        }
      ],
      "execution_count": 36
    },
    {
      "cell_type": "code",
      "source": "max_aapl = max(aapl['Adj Close'])",
      "metadata": {
        "trusted": true
      },
      "outputs": [],
      "execution_count": 37
    },
    {
      "cell_type": "code",
      "source": "max_aapl",
      "metadata": {
        "trusted": true
      },
      "outputs": [
        {
          "execution_count": 38,
          "output_type": "execute_result",
          "data": {
            "text/plain": "197.857529"
          },
          "metadata": {}
        }
      ],
      "execution_count": 38
    },
    {
      "cell_type": "code",
      "source": "min_aapl = min(aapl['Adj Close'])",
      "metadata": {
        "trusted": true
      },
      "outputs": [],
      "execution_count": 39
    },
    {
      "cell_type": "code",
      "source": "min_aapl",
      "metadata": {
        "trusted": true
      },
      "outputs": [
        {
          "execution_count": 40,
          "output_type": "execute_result",
          "data": {
            "text/plain": "124.166641"
          },
          "metadata": {}
        }
      ],
      "execution_count": 40
    },
    {
      "cell_type": "code",
      "source": "(max_aapl - min_aapl) / max_aapl",
      "metadata": {
        "trusted": true
      },
      "outputs": [
        {
          "execution_count": 41,
          "output_type": "execute_result",
          "data": {
            "text/plain": "0.3724441944284061"
          },
          "metadata": {}
        }
      ],
      "execution_count": 41
    },
    {
      "cell_type": "code",
      "source": "msft = pd.read_csv('MSFT.csv')",
      "metadata": {
        "trusted": true
      },
      "outputs": [],
      "execution_count": 42
    },
    {
      "cell_type": "code",
      "source": "msft",
      "metadata": {
        "trusted": true
      },
      "outputs": [
        {
          "execution_count": 43,
          "output_type": "execute_result",
          "data": {
            "text/plain": "           Date        Open        High         Low       Close   Adj Close  \\\n0    2023-01-03  243.080002  245.750000  237.399994  239.580002  237.036026   \n1    2023-01-04  232.279999  232.869995  225.960007  229.100006  226.667297   \n2    2023-01-05  227.199997  227.550003  221.759995  222.309998  219.949387   \n3    2023-01-06  223.000000  225.759995  219.350006  224.929993  222.541534   \n4    2023-01-09  226.449997  231.240005  226.410004  227.119995  224.708282   \n..          ...         ...         ...         ...         ...         ...   \n245  2023-12-22  373.679993  375.179993  372.709991  374.579987  373.888580   \n246  2023-12-26  375.000000  376.940002  373.500000  374.660004  373.968445   \n247  2023-12-27  373.690002  375.059998  372.809998  374.070007  373.379547   \n248  2023-12-28  375.369995  376.459991  374.160004  375.279999  374.587280   \n249  2023-12-29  376.000000  377.160004  373.480011  376.040009  375.345886   \n\n       Volume  \n0    25740000  \n1    50623400  \n2    39585600  \n3    43613600  \n4    27369800  \n..        ...  \n245  17091100  \n246  12673100  \n247  14905400  \n248  14327000  \n249  18723000  \n\n[250 rows x 7 columns]",
            "text/html": "<div>\n<style scoped>\n    .dataframe tbody tr th:only-of-type {\n        vertical-align: middle;\n    }\n\n    .dataframe tbody tr th {\n        vertical-align: top;\n    }\n\n    .dataframe thead th {\n        text-align: right;\n    }\n</style>\n<table border=\"1\" class=\"dataframe\">\n  <thead>\n    <tr style=\"text-align: right;\">\n      <th></th>\n      <th>Date</th>\n      <th>Open</th>\n      <th>High</th>\n      <th>Low</th>\n      <th>Close</th>\n      <th>Adj Close</th>\n      <th>Volume</th>\n    </tr>\n  </thead>\n  <tbody>\n    <tr>\n      <th>0</th>\n      <td>2023-01-03</td>\n      <td>243.080002</td>\n      <td>245.750000</td>\n      <td>237.399994</td>\n      <td>239.580002</td>\n      <td>237.036026</td>\n      <td>25740000</td>\n    </tr>\n    <tr>\n      <th>1</th>\n      <td>2023-01-04</td>\n      <td>232.279999</td>\n      <td>232.869995</td>\n      <td>225.960007</td>\n      <td>229.100006</td>\n      <td>226.667297</td>\n      <td>50623400</td>\n    </tr>\n    <tr>\n      <th>2</th>\n      <td>2023-01-05</td>\n      <td>227.199997</td>\n      <td>227.550003</td>\n      <td>221.759995</td>\n      <td>222.309998</td>\n      <td>219.949387</td>\n      <td>39585600</td>\n    </tr>\n    <tr>\n      <th>3</th>\n      <td>2023-01-06</td>\n      <td>223.000000</td>\n      <td>225.759995</td>\n      <td>219.350006</td>\n      <td>224.929993</td>\n      <td>222.541534</td>\n      <td>43613600</td>\n    </tr>\n    <tr>\n      <th>4</th>\n      <td>2023-01-09</td>\n      <td>226.449997</td>\n      <td>231.240005</td>\n      <td>226.410004</td>\n      <td>227.119995</td>\n      <td>224.708282</td>\n      <td>27369800</td>\n    </tr>\n    <tr>\n      <th>...</th>\n      <td>...</td>\n      <td>...</td>\n      <td>...</td>\n      <td>...</td>\n      <td>...</td>\n      <td>...</td>\n      <td>...</td>\n    </tr>\n    <tr>\n      <th>245</th>\n      <td>2023-12-22</td>\n      <td>373.679993</td>\n      <td>375.179993</td>\n      <td>372.709991</td>\n      <td>374.579987</td>\n      <td>373.888580</td>\n      <td>17091100</td>\n    </tr>\n    <tr>\n      <th>246</th>\n      <td>2023-12-26</td>\n      <td>375.000000</td>\n      <td>376.940002</td>\n      <td>373.500000</td>\n      <td>374.660004</td>\n      <td>373.968445</td>\n      <td>12673100</td>\n    </tr>\n    <tr>\n      <th>247</th>\n      <td>2023-12-27</td>\n      <td>373.690002</td>\n      <td>375.059998</td>\n      <td>372.809998</td>\n      <td>374.070007</td>\n      <td>373.379547</td>\n      <td>14905400</td>\n    </tr>\n    <tr>\n      <th>248</th>\n      <td>2023-12-28</td>\n      <td>375.369995</td>\n      <td>376.459991</td>\n      <td>374.160004</td>\n      <td>375.279999</td>\n      <td>374.587280</td>\n      <td>14327000</td>\n    </tr>\n    <tr>\n      <th>249</th>\n      <td>2023-12-29</td>\n      <td>376.000000</td>\n      <td>377.160004</td>\n      <td>373.480011</td>\n      <td>376.040009</td>\n      <td>375.345886</td>\n      <td>18723000</td>\n    </tr>\n  </tbody>\n</table>\n<p>250 rows × 7 columns</p>\n</div>"
          },
          "metadata": {}
        }
      ],
      "execution_count": 43
    },
    {
      "cell_type": "code",
      "source": "max_ms = max(msft['Adj Close'])",
      "metadata": {
        "trusted": true
      },
      "outputs": [],
      "execution_count": 44
    },
    {
      "cell_type": "code",
      "source": "max_ms",
      "metadata": {
        "trusted": true
      },
      "outputs": [
        {
          "execution_count": 45,
          "output_type": "execute_result",
          "data": {
            "text/plain": "381.993622"
          },
          "metadata": {}
        }
      ],
      "execution_count": 45
    },
    {
      "cell_type": "code",
      "source": "min_ms = min(msft['Adj Close'])",
      "metadata": {
        "trusted": true
      },
      "outputs": [],
      "execution_count": 46
    },
    {
      "cell_type": "code",
      "source": "min_ms",
      "metadata": {
        "trusted": true
      },
      "outputs": [
        {
          "execution_count": 47,
          "output_type": "execute_result",
          "data": {
            "text/plain": "219.949387"
          },
          "metadata": {}
        }
      ],
      "execution_count": 47
    },
    {
      "cell_type": "code",
      "source": "(max_ms - min_ms) / max_ms",
      "metadata": {
        "trusted": true
      },
      "outputs": [
        {
          "execution_count": 48,
          "output_type": "execute_result",
          "data": {
            "text/plain": "0.4242066507592109"
          },
          "metadata": {}
        }
      ],
      "execution_count": 48
    },
    {
      "cell_type": "code",
      "source": "goog = pd.read_csv('GOOG.csv')",
      "metadata": {
        "trusted": true
      },
      "outputs": [],
      "execution_count": null
    },
    {
      "cell_type": "code",
      "source": "",
      "metadata": {
        "trusted": true
      },
      "outputs": [],
      "execution_count": null
    }
  ]
}