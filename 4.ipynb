{
  "metadata": {
    "kernelspec": {
      "name": "python",
      "display_name": "Python (Pyodide)",
      "language": "python"
    },
    "language_info": {
      "codemirror_mode": {
        "name": "python",
        "version": 3
      },
      "file_extension": ".py",
      "mimetype": "text/x-python",
      "name": "python",
      "nbconvert_exporter": "python",
      "pygments_lexer": "ipython3",
      "version": "3.8"
    }
  },
  "nbformat_minor": 4,
  "nbformat": 4,
  "cells": [
    {
      "cell_type": "code",
      "source": "import pandas as pd",
      "metadata": {
        "trusted": true
      },
      "outputs": [],
      "execution_count": 1
    },
    {
      "cell_type": "code",
      "source": "goog = pd.read_csv('GOOG.csv')",
      "metadata": {
        "trusted": true
      },
      "outputs": [],
      "execution_count": 2
    },
    {
      "cell_type": "code",
      "source": "goog",
      "metadata": {
        "trusted": true,
        "jupyter": {
          "source_hidden": true
        }
      },
      "outputs": [
        {
          "execution_count": 4,
          "output_type": "execute_result",
          "data": {
            "text/plain": "           Date        Open        High         Low       Close   Adj Close  \\\n0    2023-01-03   89.830002   91.550003   89.019997   89.699997   89.699997   \n1    2023-01-04   91.010002   91.239998   87.800003   88.709999   88.709999   \n2    2023-01-05   88.070000   88.209999   86.559998   86.769997   86.769997   \n3    2023-01-06   87.360001   88.470001   85.570000   88.160004   88.160004   \n4    2023-01-09   89.195000   90.830002   88.580002   88.800003   88.800003   \n..          ...         ...         ...         ...         ...         ...   \n245  2023-12-22  142.130005  143.250000  142.054993  142.720001  142.720001   \n246  2023-12-26  142.979996  143.945007  142.500000  142.820007  142.820007   \n247  2023-12-27  142.830002  143.320007  141.050995  141.440002  141.440002   \n248  2023-12-28  141.850006  142.270004  140.828003  141.279999  141.279999   \n249  2023-12-29  140.679993  141.434998  139.899994  140.929993  140.929993   \n\n       Volume  \n0    20738500  \n1    27046500  \n2    23136100  \n3    26612600  \n4    22996700  \n..        ...  \n245  18494700  \n246  11170100  \n247  17288400  \n248  12192500  \n249  14872700  \n\n[250 rows x 7 columns]",
            "text/html": "<div>\n<style scoped>\n    .dataframe tbody tr th:only-of-type {\n        vertical-align: middle;\n    }\n\n    .dataframe tbody tr th {\n        vertical-align: top;\n    }\n\n    .dataframe thead th {\n        text-align: right;\n    }\n</style>\n<table border=\"1\" class=\"dataframe\">\n  <thead>\n    <tr style=\"text-align: right;\">\n      <th></th>\n      <th>Date</th>\n      <th>Open</th>\n      <th>High</th>\n      <th>Low</th>\n      <th>Close</th>\n      <th>Adj Close</th>\n      <th>Volume</th>\n    </tr>\n  </thead>\n  <tbody>\n    <tr>\n      <th>0</th>\n      <td>2023-01-03</td>\n      <td>89.830002</td>\n      <td>91.550003</td>\n      <td>89.019997</td>\n      <td>89.699997</td>\n      <td>89.699997</td>\n      <td>20738500</td>\n    </tr>\n    <tr>\n      <th>1</th>\n      <td>2023-01-04</td>\n      <td>91.010002</td>\n      <td>91.239998</td>\n      <td>87.800003</td>\n      <td>88.709999</td>\n      <td>88.709999</td>\n      <td>27046500</td>\n    </tr>\n    <tr>\n      <th>2</th>\n      <td>2023-01-05</td>\n      <td>88.070000</td>\n      <td>88.209999</td>\n      <td>86.559998</td>\n      <td>86.769997</td>\n      <td>86.769997</td>\n      <td>23136100</td>\n    </tr>\n    <tr>\n      <th>3</th>\n      <td>2023-01-06</td>\n      <td>87.360001</td>\n      <td>88.470001</td>\n      <td>85.570000</td>\n      <td>88.160004</td>\n      <td>88.160004</td>\n      <td>26612600</td>\n    </tr>\n    <tr>\n      <th>4</th>\n      <td>2023-01-09</td>\n      <td>89.195000</td>\n      <td>90.830002</td>\n      <td>88.580002</td>\n      <td>88.800003</td>\n      <td>88.800003</td>\n      <td>22996700</td>\n    </tr>\n    <tr>\n      <th>...</th>\n      <td>...</td>\n      <td>...</td>\n      <td>...</td>\n      <td>...</td>\n      <td>...</td>\n      <td>...</td>\n      <td>...</td>\n    </tr>\n    <tr>\n      <th>245</th>\n      <td>2023-12-22</td>\n      <td>142.130005</td>\n      <td>143.250000</td>\n      <td>142.054993</td>\n      <td>142.720001</td>\n      <td>142.720001</td>\n      <td>18494700</td>\n    </tr>\n    <tr>\n      <th>246</th>\n      <td>2023-12-26</td>\n      <td>142.979996</td>\n      <td>143.945007</td>\n      <td>142.500000</td>\n      <td>142.820007</td>\n      <td>142.820007</td>\n      <td>11170100</td>\n    </tr>\n    <tr>\n      <th>247</th>\n      <td>2023-12-27</td>\n      <td>142.830002</td>\n      <td>143.320007</td>\n      <td>141.050995</td>\n      <td>141.440002</td>\n      <td>141.440002</td>\n      <td>17288400</td>\n    </tr>\n    <tr>\n      <th>248</th>\n      <td>2023-12-28</td>\n      <td>141.850006</td>\n      <td>142.270004</td>\n      <td>140.828003</td>\n      <td>141.279999</td>\n      <td>141.279999</td>\n      <td>12192500</td>\n    </tr>\n    <tr>\n      <th>249</th>\n      <td>2023-12-29</td>\n      <td>140.679993</td>\n      <td>141.434998</td>\n      <td>139.899994</td>\n      <td>140.929993</td>\n      <td>140.929993</td>\n      <td>14872700</td>\n    </tr>\n  </tbody>\n</table>\n<p>250 rows × 7 columns</p>\n</div>"
          },
          "metadata": {}
        }
      ],
      "execution_count": 4
    },
    {
      "cell_type": "code",
      "source": "max_goo = max(goog['Adj Close'])",
      "metadata": {
        "trusted": true
      },
      "outputs": [],
      "execution_count": 5
    },
    {
      "cell_type": "code",
      "source": "max_goo",
      "metadata": {
        "trusted": true
      },
      "outputs": [
        {
          "execution_count": 6,
          "output_type": "execute_result",
          "data": {
            "text/plain": "142.820007"
          },
          "metadata": {}
        }
      ],
      "execution_count": 6
    },
    {
      "cell_type": "code",
      "source": "min_goo = min(goog['Adj Close'])",
      "metadata": {
        "trusted": true
      },
      "outputs": [],
      "execution_count": 7
    },
    {
      "cell_type": "code",
      "source": "min_goo",
      "metadata": {
        "trusted": true
      },
      "outputs": [
        {
          "execution_count": 8,
          "output_type": "execute_result",
          "data": {
            "text/plain": "86.769997"
          },
          "metadata": {}
        }
      ],
      "execution_count": 8
    },
    {
      "cell_type": "code",
      "source": "(max_goo - min_goo) / max_goo",
      "metadata": {
        "trusted": true
      },
      "outputs": [
        {
          "execution_count": 9,
          "output_type": "execute_result",
          "data": {
            "text/plain": "0.392452088312809"
          },
          "metadata": {}
        }
      ],
      "execution_count": 9
    },
    {
      "cell_type": "code",
      "source": "jpm = pd.read_csv('JPM.csv')",
      "metadata": {
        "trusted": true
      },
      "outputs": [],
      "execution_count": 10
    },
    {
      "cell_type": "code",
      "source": "jpm",
      "metadata": {
        "trusted": true
      },
      "outputs": [
        {
          "execution_count": 11,
          "output_type": "execute_result",
          "data": {
            "text/plain": "           Date        Open        High         Low       Close   Adj Close  \\\n0    2023-01-03  135.240005  136.740005  133.889999  135.119995  129.648514   \n1    2023-01-04  135.990005  137.679993  135.570007  136.380005  130.857468   \n2    2023-01-05  135.660004  135.710007  133.699997  135.350006  130.828491   \n3    2023-01-06  136.130005  138.380005  134.490005  137.940002  133.331940   \n4    2023-01-09  138.600006  138.880005  136.880005  137.369995  132.781006   \n..          ...         ...         ...         ...         ...         ...   \n245  2023-12-22  167.500000  168.229996  167.229996  167.399994  165.409225   \n246  2023-12-26  167.460007  168.770004  167.179993  168.389999  166.387451   \n247  2023-12-27  167.839996  169.470001  167.580002  169.399994  167.385437   \n248  2023-12-28  169.350006  170.660004  169.000000  170.300003  168.274734   \n249  2023-12-29  170.000000  170.690002  169.630005  170.100006  168.077118   \n\n       Volume  \n0    11054800  \n1    11687600  \n2     8381300  \n3    10029100  \n4     8482300  \n..        ...  \n245   6574900  \n246   4683600  \n247   6428600  \n248   6320100  \n249   6431800  \n\n[250 rows x 7 columns]",
            "text/html": "<div>\n<style scoped>\n    .dataframe tbody tr th:only-of-type {\n        vertical-align: middle;\n    }\n\n    .dataframe tbody tr th {\n        vertical-align: top;\n    }\n\n    .dataframe thead th {\n        text-align: right;\n    }\n</style>\n<table border=\"1\" class=\"dataframe\">\n  <thead>\n    <tr style=\"text-align: right;\">\n      <th></th>\n      <th>Date</th>\n      <th>Open</th>\n      <th>High</th>\n      <th>Low</th>\n      <th>Close</th>\n      <th>Adj Close</th>\n      <th>Volume</th>\n    </tr>\n  </thead>\n  <tbody>\n    <tr>\n      <th>0</th>\n      <td>2023-01-03</td>\n      <td>135.240005</td>\n      <td>136.740005</td>\n      <td>133.889999</td>\n      <td>135.119995</td>\n      <td>129.648514</td>\n      <td>11054800</td>\n    </tr>\n    <tr>\n      <th>1</th>\n      <td>2023-01-04</td>\n      <td>135.990005</td>\n      <td>137.679993</td>\n      <td>135.570007</td>\n      <td>136.380005</td>\n      <td>130.857468</td>\n      <td>11687600</td>\n    </tr>\n    <tr>\n      <th>2</th>\n      <td>2023-01-05</td>\n      <td>135.660004</td>\n      <td>135.710007</td>\n      <td>133.699997</td>\n      <td>135.350006</td>\n      <td>130.828491</td>\n      <td>8381300</td>\n    </tr>\n    <tr>\n      <th>3</th>\n      <td>2023-01-06</td>\n      <td>136.130005</td>\n      <td>138.380005</td>\n      <td>134.490005</td>\n      <td>137.940002</td>\n      <td>133.331940</td>\n      <td>10029100</td>\n    </tr>\n    <tr>\n      <th>4</th>\n      <td>2023-01-09</td>\n      <td>138.600006</td>\n      <td>138.880005</td>\n      <td>136.880005</td>\n      <td>137.369995</td>\n      <td>132.781006</td>\n      <td>8482300</td>\n    </tr>\n    <tr>\n      <th>...</th>\n      <td>...</td>\n      <td>...</td>\n      <td>...</td>\n      <td>...</td>\n      <td>...</td>\n      <td>...</td>\n      <td>...</td>\n    </tr>\n    <tr>\n      <th>245</th>\n      <td>2023-12-22</td>\n      <td>167.500000</td>\n      <td>168.229996</td>\n      <td>167.229996</td>\n      <td>167.399994</td>\n      <td>165.409225</td>\n      <td>6574900</td>\n    </tr>\n    <tr>\n      <th>246</th>\n      <td>2023-12-26</td>\n      <td>167.460007</td>\n      <td>168.770004</td>\n      <td>167.179993</td>\n      <td>168.389999</td>\n      <td>166.387451</td>\n      <td>4683600</td>\n    </tr>\n    <tr>\n      <th>247</th>\n      <td>2023-12-27</td>\n      <td>167.839996</td>\n      <td>169.470001</td>\n      <td>167.580002</td>\n      <td>169.399994</td>\n      <td>167.385437</td>\n      <td>6428600</td>\n    </tr>\n    <tr>\n      <th>248</th>\n      <td>2023-12-28</td>\n      <td>169.350006</td>\n      <td>170.660004</td>\n      <td>169.000000</td>\n      <td>170.300003</td>\n      <td>168.274734</td>\n      <td>6320100</td>\n    </tr>\n    <tr>\n      <th>249</th>\n      <td>2023-12-29</td>\n      <td>170.000000</td>\n      <td>170.690002</td>\n      <td>169.630005</td>\n      <td>170.100006</td>\n      <td>168.077118</td>\n      <td>6431800</td>\n    </tr>\n  </tbody>\n</table>\n<p>250 rows × 7 columns</p>\n</div>"
          },
          "metadata": {}
        }
      ],
      "execution_count": 11
    },
    {
      "cell_type": "code",
      "source": "max_jpm = max(jpm['Adj Close'])",
      "metadata": {
        "trusted": true
      },
      "outputs": [],
      "execution_count": 12
    },
    {
      "cell_type": "code",
      "source": "max_jpm",
      "metadata": {
        "trusted": true
      },
      "outputs": [
        {
          "execution_count": 13,
          "output_type": "execute_result",
          "data": {
            "text/plain": "168.274734"
          },
          "metadata": {}
        }
      ],
      "execution_count": 13
    },
    {
      "cell_type": "code",
      "source": "min_jpm = min(jpm['Adj Close'])",
      "metadata": {
        "trusted": true
      },
      "outputs": [],
      "execution_count": 14
    },
    {
      "cell_type": "code",
      "source": "min_jpm",
      "metadata": {
        "trusted": true
      },
      "outputs": [
        {
          "execution_count": 15,
          "output_type": "execute_result",
          "data": {
            "text/plain": "120.737244"
          },
          "metadata": {}
        }
      ],
      "execution_count": 15
    },
    {
      "cell_type": "code",
      "source": "(max_jpm - min_jpm) / max_jpm",
      "metadata": {
        "trusted": true
      },
      "outputs": [
        {
          "execution_count": 16,
          "output_type": "execute_result",
          "data": {
            "text/plain": "0.2824992728854945"
          },
          "metadata": {}
        }
      ],
      "execution_count": 16
    },
    {
      "cell_type": "code",
      "source": "sr = pd.read_csv('2222.SR.csv')",
      "metadata": {
        "trusted": true
      },
      "outputs": [],
      "execution_count": 17
    },
    {
      "cell_type": "code",
      "source": "sr",
      "metadata": {
        "trusted": true
      },
      "outputs": [
        {
          "execution_count": 18,
          "output_type": "execute_result",
          "data": {
            "text/plain": "           Date       Open       High        Low      Close  Adj Close  \\\n0    2023-01-01  29.227272  29.454544  29.181818  29.454544  28.475794   \n1    2023-01-02  29.545454  29.545454  29.227272  29.227272  28.256073   \n2    2023-01-03  29.227272  29.227272  29.227272  29.227272  28.256073   \n3    2023-01-04  29.181818  29.227272  28.681818  28.818180  27.860575   \n4    2023-01-05  28.818180  28.818180  28.363636  28.681818  27.728743   \n..          ...        ...        ...        ...        ...        ...   \n243  2023-12-24  32.950001  33.099998  32.849998  33.000000  32.828049   \n244  2023-12-25  33.000000  33.099998  32.849998  33.099998  32.927525   \n245  2023-12-26  33.049999  33.099998  32.900002  33.049999  32.877789   \n246  2023-12-27  33.099998  33.250000  33.000000  33.150002  32.977268   \n247  2023-12-28  33.150002  33.250000  32.950001  33.049999  32.877789   \n\n       Volume  \n0     1569087  \n1     4693364  \n2           0  \n3     4618455  \n4     4797670  \n..        ...  \n243  12165552  \n244  15869070  \n245  14598967  \n246  14815683  \n247  12720450  \n\n[248 rows x 7 columns]",
            "text/html": "<div>\n<style scoped>\n    .dataframe tbody tr th:only-of-type {\n        vertical-align: middle;\n    }\n\n    .dataframe tbody tr th {\n        vertical-align: top;\n    }\n\n    .dataframe thead th {\n        text-align: right;\n    }\n</style>\n<table border=\"1\" class=\"dataframe\">\n  <thead>\n    <tr style=\"text-align: right;\">\n      <th></th>\n      <th>Date</th>\n      <th>Open</th>\n      <th>High</th>\n      <th>Low</th>\n      <th>Close</th>\n      <th>Adj Close</th>\n      <th>Volume</th>\n    </tr>\n  </thead>\n  <tbody>\n    <tr>\n      <th>0</th>\n      <td>2023-01-01</td>\n      <td>29.227272</td>\n      <td>29.454544</td>\n      <td>29.181818</td>\n      <td>29.454544</td>\n      <td>28.475794</td>\n      <td>1569087</td>\n    </tr>\n    <tr>\n      <th>1</th>\n      <td>2023-01-02</td>\n      <td>29.545454</td>\n      <td>29.545454</td>\n      <td>29.227272</td>\n      <td>29.227272</td>\n      <td>28.256073</td>\n      <td>4693364</td>\n    </tr>\n    <tr>\n      <th>2</th>\n      <td>2023-01-03</td>\n      <td>29.227272</td>\n      <td>29.227272</td>\n      <td>29.227272</td>\n      <td>29.227272</td>\n      <td>28.256073</td>\n      <td>0</td>\n    </tr>\n    <tr>\n      <th>3</th>\n      <td>2023-01-04</td>\n      <td>29.181818</td>\n      <td>29.227272</td>\n      <td>28.681818</td>\n      <td>28.818180</td>\n      <td>27.860575</td>\n      <td>4618455</td>\n    </tr>\n    <tr>\n      <th>4</th>\n      <td>2023-01-05</td>\n      <td>28.818180</td>\n      <td>28.818180</td>\n      <td>28.363636</td>\n      <td>28.681818</td>\n      <td>27.728743</td>\n      <td>4797670</td>\n    </tr>\n    <tr>\n      <th>...</th>\n      <td>...</td>\n      <td>...</td>\n      <td>...</td>\n      <td>...</td>\n      <td>...</td>\n      <td>...</td>\n      <td>...</td>\n    </tr>\n    <tr>\n      <th>243</th>\n      <td>2023-12-24</td>\n      <td>32.950001</td>\n      <td>33.099998</td>\n      <td>32.849998</td>\n      <td>33.000000</td>\n      <td>32.828049</td>\n      <td>12165552</td>\n    </tr>\n    <tr>\n      <th>244</th>\n      <td>2023-12-25</td>\n      <td>33.000000</td>\n      <td>33.099998</td>\n      <td>32.849998</td>\n      <td>33.099998</td>\n      <td>32.927525</td>\n      <td>15869070</td>\n    </tr>\n    <tr>\n      <th>245</th>\n      <td>2023-12-26</td>\n      <td>33.049999</td>\n      <td>33.099998</td>\n      <td>32.900002</td>\n      <td>33.049999</td>\n      <td>32.877789</td>\n      <td>14598967</td>\n    </tr>\n    <tr>\n      <th>246</th>\n      <td>2023-12-27</td>\n      <td>33.099998</td>\n      <td>33.250000</td>\n      <td>33.000000</td>\n      <td>33.150002</td>\n      <td>32.977268</td>\n      <td>14815683</td>\n    </tr>\n    <tr>\n      <th>247</th>\n      <td>2023-12-28</td>\n      <td>33.150002</td>\n      <td>33.250000</td>\n      <td>32.950001</td>\n      <td>33.049999</td>\n      <td>32.877789</td>\n      <td>12720450</td>\n    </tr>\n  </tbody>\n</table>\n<p>248 rows × 7 columns</p>\n</div>"
          },
          "metadata": {}
        }
      ],
      "execution_count": 18
    },
    {
      "cell_type": "code",
      "source": "",
      "metadata": {
        "trusted": true
      },
      "outputs": [],
      "execution_count": null
    }
  ]
}