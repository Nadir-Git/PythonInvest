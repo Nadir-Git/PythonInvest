{
  "metadata": {
    "kernelspec": {
      "name": "python",
      "display_name": "Python (Pyodide)",
      "language": "python"
    },
    "language_info": {
      "codemirror_mode": {
        "name": "python",
        "version": 3
      },
      "file_extension": ".py",
      "mimetype": "text/x-python",
      "name": "python",
      "nbconvert_exporter": "python",
      "pygments_lexer": "ipython3",
      "version": "3.8"
    }
  },
  "nbformat_minor": 4,
  "nbformat": 4,
  "cells": [
    {
      "cell_type": "code",
      "source": "import pandas as pd\nimport numpy as np",
      "metadata": {
        "trusted": true
      },
      "outputs": [],
      "execution_count": null
    },
    {
      "cell_type": "code",
      "source": "data_1 = pd.read_csv('DGS2.csv')",
      "metadata": {
        "trusted": true
      },
      "outputs": [],
      "execution_count": 2
    },
    {
      "cell_type": "code",
      "source": "data_2 = pd.read_csv('DGS10.csv')",
      "metadata": {
        "trusted": true
      },
      "outputs": [],
      "execution_count": 3
    },
    {
      "cell_type": "code",
      "source": "data_1.head()",
      "metadata": {
        "trusted": true
      },
      "outputs": [
        {
          "execution_count": 9,
          "output_type": "execute_result",
          "data": {
            "text/plain": "         DATE  DGS2\n0  2019-04-18  2.38\n1  2019-04-19     .\n2  2019-04-22  2.38\n3  2019-04-23  2.36\n4  2019-04-24  2.32",
            "text/html": "<div>\n<style scoped>\n    .dataframe tbody tr th:only-of-type {\n        vertical-align: middle;\n    }\n\n    .dataframe tbody tr th {\n        vertical-align: top;\n    }\n\n    .dataframe thead th {\n        text-align: right;\n    }\n</style>\n<table border=\"1\" class=\"dataframe\">\n  <thead>\n    <tr style=\"text-align: right;\">\n      <th></th>\n      <th>DATE</th>\n      <th>DGS2</th>\n    </tr>\n  </thead>\n  <tbody>\n    <tr>\n      <th>0</th>\n      <td>2019-04-18</td>\n      <td>2.38</td>\n    </tr>\n    <tr>\n      <th>1</th>\n      <td>2019-04-19</td>\n      <td>.</td>\n    </tr>\n    <tr>\n      <th>2</th>\n      <td>2019-04-22</td>\n      <td>2.38</td>\n    </tr>\n    <tr>\n      <th>3</th>\n      <td>2019-04-23</td>\n      <td>2.36</td>\n    </tr>\n    <tr>\n      <th>4</th>\n      <td>2019-04-24</td>\n      <td>2.32</td>\n    </tr>\n  </tbody>\n</table>\n</div>"
          },
          "metadata": {}
        }
      ],
      "execution_count": 9
    },
    {
      "cell_type": "code",
      "source": "data_2.head()",
      "metadata": {
        "trusted": true
      },
      "outputs": [
        {
          "execution_count": 10,
          "output_type": "execute_result",
          "data": {
            "text/plain": "         DATE DGS10\n0  2019-04-18  2.57\n1  2019-04-19     .\n2  2019-04-22  2.59\n3  2019-04-23  2.57\n4  2019-04-24  2.53",
            "text/html": "<div>\n<style scoped>\n    .dataframe tbody tr th:only-of-type {\n        vertical-align: middle;\n    }\n\n    .dataframe tbody tr th {\n        vertical-align: top;\n    }\n\n    .dataframe thead th {\n        text-align: right;\n    }\n</style>\n<table border=\"1\" class=\"dataframe\">\n  <thead>\n    <tr style=\"text-align: right;\">\n      <th></th>\n      <th>DATE</th>\n      <th>DGS10</th>\n    </tr>\n  </thead>\n  <tbody>\n    <tr>\n      <th>0</th>\n      <td>2019-04-18</td>\n      <td>2.57</td>\n    </tr>\n    <tr>\n      <th>1</th>\n      <td>2019-04-19</td>\n      <td>.</td>\n    </tr>\n    <tr>\n      <th>2</th>\n      <td>2019-04-22</td>\n      <td>2.59</td>\n    </tr>\n    <tr>\n      <th>3</th>\n      <td>2019-04-23</td>\n      <td>2.57</td>\n    </tr>\n    <tr>\n      <th>4</th>\n      <td>2019-04-24</td>\n      <td>2.53</td>\n    </tr>\n  </tbody>\n</table>\n</div>"
          },
          "metadata": {}
        }
      ],
      "execution_count": 10
    },
    {
      "cell_type": "code",
      "source": "data = data_1.join(data_2, how='outer', lsuffix='_df1', rsuffix='_df2')",
      "metadata": {
        "trusted": true
      },
      "outputs": [],
      "execution_count": 11
    },
    {
      "cell_type": "code",
      "source": " data.head()",
      "metadata": {
        "trusted": true
      },
      "outputs": [
        {
          "execution_count": 12,
          "output_type": "execute_result",
          "data": {
            "text/plain": "     DATE_df1  DGS2    DATE_df2 DGS10\n0  2019-04-18  2.38  2019-04-18  2.57\n1  2019-04-19     .  2019-04-19     .\n2  2019-04-22  2.38  2019-04-22  2.59\n3  2019-04-23  2.36  2019-04-23  2.57\n4  2019-04-24  2.32  2019-04-24  2.53",
            "text/html": "<div>\n<style scoped>\n    .dataframe tbody tr th:only-of-type {\n        vertical-align: middle;\n    }\n\n    .dataframe tbody tr th {\n        vertical-align: top;\n    }\n\n    .dataframe thead th {\n        text-align: right;\n    }\n</style>\n<table border=\"1\" class=\"dataframe\">\n  <thead>\n    <tr style=\"text-align: right;\">\n      <th></th>\n      <th>DATE_df1</th>\n      <th>DGS2</th>\n      <th>DATE_df2</th>\n      <th>DGS10</th>\n    </tr>\n  </thead>\n  <tbody>\n    <tr>\n      <th>0</th>\n      <td>2019-04-18</td>\n      <td>2.38</td>\n      <td>2019-04-18</td>\n      <td>2.57</td>\n    </tr>\n    <tr>\n      <th>1</th>\n      <td>2019-04-19</td>\n      <td>.</td>\n      <td>2019-04-19</td>\n      <td>.</td>\n    </tr>\n    <tr>\n      <th>2</th>\n      <td>2019-04-22</td>\n      <td>2.38</td>\n      <td>2019-04-22</td>\n      <td>2.59</td>\n    </tr>\n    <tr>\n      <th>3</th>\n      <td>2019-04-23</td>\n      <td>2.36</td>\n      <td>2019-04-23</td>\n      <td>2.57</td>\n    </tr>\n    <tr>\n      <th>4</th>\n      <td>2019-04-24</td>\n      <td>2.32</td>\n      <td>2019-04-24</td>\n      <td>2.53</td>\n    </tr>\n  </tbody>\n</table>\n</div>"
          },
          "metadata": {}
        }
      ],
      "execution_count": 12
    },
    {
      "cell_type": "code",
      "source": "data.shape",
      "metadata": {
        "trusted": true
      },
      "outputs": [
        {
          "execution_count": 13,
          "output_type": "execute_result",
          "data": {
            "text/plain": "(1306, 4)"
          },
          "metadata": {}
        }
      ],
      "execution_count": 13
    },
    {
      "cell_type": "code",
      "source": "data_1.shape",
      "metadata": {
        "trusted": true
      },
      "outputs": [
        {
          "execution_count": 14,
          "output_type": "execute_result",
          "data": {
            "text/plain": "(1306, 2)"
          },
          "metadata": {}
        }
      ],
      "execution_count": 14
    },
    {
      "cell_type": "code",
      "source": "data_2.shape",
      "metadata": {
        "trusted": true
      },
      "outputs": [
        {
          "execution_count": 15,
          "output_type": "execute_result",
          "data": {
            "text/plain": "(1306, 2)"
          },
          "metadata": {}
        }
      ],
      "execution_count": 15
    },
    {
      "cell_type": "code",
      "source": "data.info()",
      "metadata": {
        "trusted": true
      },
      "outputs": [
        {
          "name": "stdout",
          "text": "<class 'pandas.core.frame.DataFrame'>\nRangeIndex: 1306 entries, 0 to 1305\nData columns (total 4 columns):\n #   Column    Non-Null Count  Dtype \n---  ------    --------------  ----- \n 0   DATE_df1  1306 non-null   object\n 1   DGS2      1306 non-null   object\n 2   DATE_df2  1306 non-null   object\n 3   DGS10     1306 non-null   object\ndtypes: object(4)\nmemory usage: 20.5+ KB\n",
          "output_type": "stream"
        }
      ],
      "execution_count": 18
    },
    {
      "cell_type": "code",
      "source": "data['DGS10'] = data['DGS10'].replace('.', np.nan)",
      "metadata": {
        "trusted": true
      },
      "outputs": [],
      "execution_count": 23
    },
    {
      "cell_type": "code",
      "source": "data['DGS10'] = data['DGS10'].astype(float)",
      "metadata": {
        "trusted": true
      },
      "outputs": [],
      "execution_count": 24
    },
    {
      "cell_type": "code",
      "source": "data['DGS2'] = data['DGS2'].replace('.', np.nan)",
      "metadata": {
        "trusted": true
      },
      "outputs": [],
      "execution_count": 27
    },
    {
      "cell_type": "code",
      "source": "data['DGS2'] = data['DGS2'].astype(float)",
      "metadata": {
        "trusted": true
      },
      "outputs": [],
      "execution_count": 28
    },
    {
      "cell_type": "code",
      "source": "data['DGS10 - DGS2'] = data['DGS10'] - data['DGS2']",
      "metadata": {
        "trusted": true
      },
      "outputs": [],
      "execution_count": 29
    },
    {
      "cell_type": "code",
      "source": "data.head()",
      "metadata": {
        "trusted": true
      },
      "outputs": [
        {
          "execution_count": 30,
          "output_type": "execute_result",
          "data": {
            "text/plain": "     DATE_df1  DGS2    DATE_df2  DGS10  DGS10 - DGS2\n0  2019-04-18  2.38  2019-04-18   2.57          0.19\n1  2019-04-19   NaN  2019-04-19    NaN           NaN\n2  2019-04-22  2.38  2019-04-22   2.59          0.21\n3  2019-04-23  2.36  2019-04-23   2.57          0.21\n4  2019-04-24  2.32  2019-04-24   2.53          0.21",
            "text/html": "<div>\n<style scoped>\n    .dataframe tbody tr th:only-of-type {\n        vertical-align: middle;\n    }\n\n    .dataframe tbody tr th {\n        vertical-align: top;\n    }\n\n    .dataframe thead th {\n        text-align: right;\n    }\n</style>\n<table border=\"1\" class=\"dataframe\">\n  <thead>\n    <tr style=\"text-align: right;\">\n      <th></th>\n      <th>DATE_df1</th>\n      <th>DGS2</th>\n      <th>DATE_df2</th>\n      <th>DGS10</th>\n      <th>DGS10 - DGS2</th>\n    </tr>\n  </thead>\n  <tbody>\n    <tr>\n      <th>0</th>\n      <td>2019-04-18</td>\n      <td>2.38</td>\n      <td>2019-04-18</td>\n      <td>2.57</td>\n      <td>0.19</td>\n    </tr>\n    <tr>\n      <th>1</th>\n      <td>2019-04-19</td>\n      <td>NaN</td>\n      <td>2019-04-19</td>\n      <td>NaN</td>\n      <td>NaN</td>\n    </tr>\n    <tr>\n      <th>2</th>\n      <td>2019-04-22</td>\n      <td>2.38</td>\n      <td>2019-04-22</td>\n      <td>2.59</td>\n      <td>0.21</td>\n    </tr>\n    <tr>\n      <th>3</th>\n      <td>2019-04-23</td>\n      <td>2.36</td>\n      <td>2019-04-23</td>\n      <td>2.57</td>\n      <td>0.21</td>\n    </tr>\n    <tr>\n      <th>4</th>\n      <td>2019-04-24</td>\n      <td>2.32</td>\n      <td>2019-04-24</td>\n      <td>2.53</td>\n      <td>0.21</td>\n    </tr>\n  </tbody>\n</table>\n</div>"
          },
          "metadata": {}
        }
      ],
      "execution_count": 30
    },
    {
      "cell_type": "code",
      "source": "min(data['DGS10 - DGS2'])",
      "metadata": {
        "trusted": true
      },
      "outputs": [
        {
          "execution_count": 31,
          "output_type": "execute_result",
          "data": {
            "text/plain": "-1.0800000000000005"
          },
          "metadata": {}
        }
      ],
      "execution_count": 31
    },
    {
      "cell_type": "code",
      "source": "mxx = pd.read_csv('^MXX.csv')",
      "metadata": {
        "trusted": true
      },
      "outputs": [],
      "execution_count": 33
    },
    {
      "cell_type": "code",
      "source": "mxx",
      "metadata": {
        "trusted": true
      },
      "outputs": [
        {
          "execution_count": 34,
          "output_type": "execute_result",
          "data": {
            "text/plain": "            Date          Open          High           Low         Close  \\\n0     2019-04-09  45346.828125  45346.828125  44854.531250  45151.628906   \n1     2019-04-10  45204.750000  45219.410156  44850.109375  44909.140625   \n2     2019-04-11  44872.531250  44966.500000  44373.488281  44580.058594   \n3     2019-04-12  44767.671875  44888.699219  44534.378906  44686.058594   \n4     2019-04-15  44649.738281  44900.929688  44347.531250  44625.781250   \n...          ...           ...           ...           ...           ...   \n1253  2024-04-02  57593.621094  57830.878906  57235.589844  57581.808594   \n1254  2024-04-03  57547.191406  58086.421875  57300.109375  57503.390625   \n1255  2024-04-04  57539.468750  58219.500000  57514.179688  57882.761719   \n1256  2024-04-05  57805.191406  58227.839844  57678.609375  58092.441406   \n1257  2024-04-08  58021.660156  58192.320313  57749.441406  57989.941406   \n\n         Adj Close     Volume  \n0     45151.628906  191575000  \n1     44909.140625  145314900  \n2     44580.058594  109090000  \n3     44686.058594  143662400  \n4     44625.781250  108627100  \n...            ...        ...  \n1253  57581.808594  180753600  \n1254  57503.390625  189285300  \n1255  57882.761719  184739700  \n1256  58092.441406  212252300  \n1257  57989.941406  154641800  \n\n[1258 rows x 7 columns]",
            "text/html": "<div>\n<style scoped>\n    .dataframe tbody tr th:only-of-type {\n        vertical-align: middle;\n    }\n\n    .dataframe tbody tr th {\n        vertical-align: top;\n    }\n\n    .dataframe thead th {\n        text-align: right;\n    }\n</style>\n<table border=\"1\" class=\"dataframe\">\n  <thead>\n    <tr style=\"text-align: right;\">\n      <th></th>\n      <th>Date</th>\n      <th>Open</th>\n      <th>High</th>\n      <th>Low</th>\n      <th>Close</th>\n      <th>Adj Close</th>\n      <th>Volume</th>\n    </tr>\n  </thead>\n  <tbody>\n    <tr>\n      <th>0</th>\n      <td>2019-04-09</td>\n      <td>45346.828125</td>\n      <td>45346.828125</td>\n      <td>44854.531250</td>\n      <td>45151.628906</td>\n      <td>45151.628906</td>\n      <td>191575000</td>\n    </tr>\n    <tr>\n      <th>1</th>\n      <td>2019-04-10</td>\n      <td>45204.750000</td>\n      <td>45219.410156</td>\n      <td>44850.109375</td>\n      <td>44909.140625</td>\n      <td>44909.140625</td>\n      <td>145314900</td>\n    </tr>\n    <tr>\n      <th>2</th>\n      <td>2019-04-11</td>\n      <td>44872.531250</td>\n      <td>44966.500000</td>\n      <td>44373.488281</td>\n      <td>44580.058594</td>\n      <td>44580.058594</td>\n      <td>109090000</td>\n    </tr>\n    <tr>\n      <th>3</th>\n      <td>2019-04-12</td>\n      <td>44767.671875</td>\n      <td>44888.699219</td>\n      <td>44534.378906</td>\n      <td>44686.058594</td>\n      <td>44686.058594</td>\n      <td>143662400</td>\n    </tr>\n    <tr>\n      <th>4</th>\n      <td>2019-04-15</td>\n      <td>44649.738281</td>\n      <td>44900.929688</td>\n      <td>44347.531250</td>\n      <td>44625.781250</td>\n      <td>44625.781250</td>\n      <td>108627100</td>\n    </tr>\n    <tr>\n      <th>...</th>\n      <td>...</td>\n      <td>...</td>\n      <td>...</td>\n      <td>...</td>\n      <td>...</td>\n      <td>...</td>\n      <td>...</td>\n    </tr>\n    <tr>\n      <th>1253</th>\n      <td>2024-04-02</td>\n      <td>57593.621094</td>\n      <td>57830.878906</td>\n      <td>57235.589844</td>\n      <td>57581.808594</td>\n      <td>57581.808594</td>\n      <td>180753600</td>\n    </tr>\n    <tr>\n      <th>1254</th>\n      <td>2024-04-03</td>\n      <td>57547.191406</td>\n      <td>58086.421875</td>\n      <td>57300.109375</td>\n      <td>57503.390625</td>\n      <td>57503.390625</td>\n      <td>189285300</td>\n    </tr>\n    <tr>\n      <th>1255</th>\n      <td>2024-04-04</td>\n      <td>57539.468750</td>\n      <td>58219.500000</td>\n      <td>57514.179688</td>\n      <td>57882.761719</td>\n      <td>57882.761719</td>\n      <td>184739700</td>\n    </tr>\n    <tr>\n      <th>1256</th>\n      <td>2024-04-05</td>\n      <td>57805.191406</td>\n      <td>58227.839844</td>\n      <td>57678.609375</td>\n      <td>58092.441406</td>\n      <td>58092.441406</td>\n      <td>212252300</td>\n    </tr>\n    <tr>\n      <th>1257</th>\n      <td>2024-04-08</td>\n      <td>58021.660156</td>\n      <td>58192.320313</td>\n      <td>57749.441406</td>\n      <td>57989.941406</td>\n      <td>57989.941406</td>\n      <td>154641800</td>\n    </tr>\n  </tbody>\n</table>\n<p>1258 rows × 7 columns</p>\n</div>"
          },
          "metadata": {}
        }
      ],
      "execution_count": 34
    },
    {
      "cell_type": "code",
      "source": "sr = pd.read_csv('2222.SR.csv')",
      "metadata": {
        "trusted": true
      },
      "outputs": [
        {
          "ename": "<class 'NameError'>",
          "evalue": "name 'pd' is not defined",
          "traceback": [
            "\u001b[0;31m---------------------------------------------------------------------------\u001b[0m",
            "\u001b[0;31mNameError\u001b[0m                                 Traceback (most recent call last)",
            "Cell \u001b[0;32mIn[1], line 1\u001b[0m\n\u001b[0;32m----> 1\u001b[0m sr \u001b[38;5;241m=\u001b[39m \u001b[43mpd\u001b[49m\u001b[38;5;241m.\u001b[39mread_csv(\u001b[38;5;124m'\u001b[39m\u001b[38;5;124m2222.SR.csv\u001b[39m\u001b[38;5;124m'\u001b[39m)\n",
            "\u001b[0;31mNameError\u001b[0m: name 'pd' is not defined"
          ],
          "output_type": "error"
        }
      ],
      "execution_count": 1
    },
    {
      "cell_type": "code",
      "source": "sr.head()",
      "metadata": {
        "trusted": true
      },
      "outputs": [
        {
          "execution_count": 36,
          "output_type": "execute_result",
          "data": {
            "text/plain": "         Date       Open       High        Low      Close  Adj Close  Volume\n0  2023-04-25  31.545454  32.727272  31.500000  32.727272  31.962404  5402.0\n1  2023-04-26  32.727272  32.863636  32.272728  32.727272  31.962404  1100.0\n2  2023-04-27  32.318180  32.863636  32.318180  32.727272  31.962404  1467.0\n3  2023-04-30  32.772728  33.181816  32.772728  33.000000  32.228760  3564.0\n4  2023-05-01  33.000000  33.136364  32.727272  32.772728  32.006798  1413.0",
            "text/html": "<div>\n<style scoped>\n    .dataframe tbody tr th:only-of-type {\n        vertical-align: middle;\n    }\n\n    .dataframe tbody tr th {\n        vertical-align: top;\n    }\n\n    .dataframe thead th {\n        text-align: right;\n    }\n</style>\n<table border=\"1\" class=\"dataframe\">\n  <thead>\n    <tr style=\"text-align: right;\">\n      <th></th>\n      <th>Date</th>\n      <th>Open</th>\n      <th>High</th>\n      <th>Low</th>\n      <th>Close</th>\n      <th>Adj Close</th>\n      <th>Volume</th>\n    </tr>\n  </thead>\n  <tbody>\n    <tr>\n      <th>0</th>\n      <td>2023-04-25</td>\n      <td>31.545454</td>\n      <td>32.727272</td>\n      <td>31.500000</td>\n      <td>32.727272</td>\n      <td>31.962404</td>\n      <td>5402.0</td>\n    </tr>\n    <tr>\n      <th>1</th>\n      <td>2023-04-26</td>\n      <td>32.727272</td>\n      <td>32.863636</td>\n      <td>32.272728</td>\n      <td>32.727272</td>\n      <td>31.962404</td>\n      <td>1100.0</td>\n    </tr>\n    <tr>\n      <th>2</th>\n      <td>2023-04-27</td>\n      <td>32.318180</td>\n      <td>32.863636</td>\n      <td>32.318180</td>\n      <td>32.727272</td>\n      <td>31.962404</td>\n      <td>1467.0</td>\n    </tr>\n    <tr>\n      <th>3</th>\n      <td>2023-04-30</td>\n      <td>32.772728</td>\n      <td>33.181816</td>\n      <td>32.772728</td>\n      <td>33.000000</td>\n      <td>32.228760</td>\n      <td>3564.0</td>\n    </tr>\n    <tr>\n      <th>4</th>\n      <td>2023-05-01</td>\n      <td>33.000000</td>\n      <td>33.136364</td>\n      <td>32.727272</td>\n      <td>32.772728</td>\n      <td>32.006798</td>\n      <td>1413.0</td>\n    </tr>\n  </tbody>\n</table>\n</div>"
          },
          "metadata": {}
        }
      ],
      "execution_count": 36
    },
    {
      "cell_type": "code",
      "source": "sr.info()",
      "metadata": {
        "trusted": true
      },
      "outputs": [
        {
          "name": "stdout",
          "text": "<class 'pandas.core.frame.DataFrame'>\nRangeIndex: 248 entries, 0 to 247\nData columns (total 7 columns):\n #   Column     Non-Null Count  Dtype  \n---  ------     --------------  -----  \n 0   Date       248 non-null    object \n 1   Open       247 non-null    float64\n 2   High       247 non-null    float64\n 3   Low        247 non-null    float64\n 4   Close      247 non-null    float64\n 5   Adj Close  247 non-null    float64\n 6   Volume     247 non-null    float64\ndtypes: float64(6), object(1)\nmemory usage: 12.7+ KB\n",
          "output_type": "stream"
        }
      ],
      "execution_count": 37
    },
    {
      "cell_type": "code",
      "source": "max_sr = max(sr['Adj Close'])",
      "metadata": {
        "trusted": true
      },
      "outputs": [],
      "execution_count": 42
    },
    {
      "cell_type": "code",
      "source": "min_sr = min(sr['Adj Close'])",
      "metadata": {
        "trusted": true
      },
      "outputs": [],
      "execution_count": 43
    },
    {
      "cell_type": "code",
      "source": "(max_sr - min_sr) / max_sr",
      "metadata": {
        "trusted": true
      },
      "outputs": [],
      "execution_count": null
    },
    {
      "cell_type": "code",
      "source": "",
      "metadata": {
        "trusted": true
      },
      "outputs": [],
      "execution_count": null
    }
  ]
}